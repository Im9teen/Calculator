{
  "nbformat": 4,
  "nbformat_minor": 0,
  "metadata": {
    "colab": {
      "provenance": [],
      "authorship_tag": "ABX9TyMchWyhmK7amssfoA5mQy4h",
      "include_colab_link": true
    },
    "kernelspec": {
      "name": "python3",
      "display_name": "Python 3"
    },
    "language_info": {
      "name": "python"
    }
  },
  "cells": [
    {
      "cell_type": "markdown",
      "metadata": {
        "id": "view-in-github",
        "colab_type": "text"
      },
      "source": [
        "<a href=\"https://colab.research.google.com/github/Im9teen/Calculator/blob/main/Calculator.ipynb\" target=\"_parent\"><img src=\"https://colab.research.google.com/assets/colab-badge.svg\" alt=\"Open In Colab\"/></a>"
      ]
    },
    {
      "cell_type": "code",
      "execution_count": 4,
      "metadata": {
        "id": "aK5Kth9L6HZ_"
      },
      "outputs": [],
      "source": [
        "import math"
      ]
    },
    {
      "cell_type": "code",
      "source": [
        "num1 = float(input(\"Enter first number: \"))\n",
        "operator = input(\"Enter operator (+, -, *, /, %, ^, s, c, t, l, r, a, d, f, p, n, m, i, x): \")\n",
        "\n",
        "if operator in ['+', '-', '*', '/', '%', '^', 'p']:\n",
        "    num2 = float(input(\"Enter second number: \"))\n",
        "\n",
        "if operator == '+':\n",
        "    result = num1 + num2\n",
        "    print(f\"{num1} + {num2} = {result}\")\n",
        "\n",
        "elif operator == '-':\n",
        "    result = num1 - num2\n",
        "    print(f\"{num1} - {num2} = {result}\")\n",
        "\n",
        "elif operator == '*':\n",
        "    result = num1 * num2\n",
        "    print(f\"{num1} * {num2} = {result}\")\n",
        "\n",
        "elif operator == '/':\n",
        "    if num2 != 0:\n",
        "        result = num1 / num2\n",
        "        print(f\"{num1} / {num2} = {result}\")\n",
        "    else:\n",
        "        print(\"Error: division by zero\")\n",
        "\n",
        "elif operator == '%':\n",
        "    result = num1 % num2\n",
        "    print(f\"{num1} % {num2} = {result}\")\n",
        "\n",
        "elif operator == '^':\n",
        "    result = num1 ** num2\n",
        "    print(f\"{num1} ^ {num2} = {result}\")\n",
        "\n",
        "elif operator == 's':\n",
        "    result = math.sin(num1)\n",
        "    print(f\"sin({num1}) = {result}\")\n",
        "\n",
        "elif operator == 'c':\n",
        "    result = math.cos(num1)\n",
        "    print(f\"cos({num1}) = {result}\")\n",
        "\n",
        "elif operator == 't':\n",
        "    result = math.tan(num1)\n",
        "    print(f\"tan({num1}) = {result}\")\n",
        "\n",
        "elif operator == 'l':\n",
        "    result = math.log(num1)\n",
        "    print(f\"log({num1}) = {result}\")\n",
        "\n",
        "elif operator == 'r':\n",
        "    result = math.sqrt(num1)\n",
        "    print(f\"sqrt({num1}) = {result}\")\n",
        "\n",
        "elif operator == 'a':\n",
        "    result = abs(num1)\n",
        "    print(f\"|{num1}| = {result}\")\n",
        "\n",
        "elif operator == 'd':\n",
        "    result = math.degrees(num1)\n",
        "    print(f\"{num1} radians = {result} degrees\")\n",
        "\n",
        "elif operator == 'f':\n",
        "    result = math.floor(num1)\n",
        "    print(f\"floor({num1}) = {result}\")\n",
        "\n",
        "elif operator == 'p':\n",
        "    result = num1 ** num2\n",
        "    print(f\"{num1}  to the power of({num2}) = {result}\")"
      ],
      "metadata": {
        "colab": {
          "base_uri": "https://localhost:8080/"
        },
        "id": "MPwLWTqX68je",
        "outputId": "34d6c7ac-47c0-4616-be1f-2a9f2b761504"
      },
      "execution_count": 6,
      "outputs": [
        {
          "output_type": "stream",
          "name": "stdout",
          "text": [
            "Enter first number: 5\n",
            "Enter operator (+, -, *, /, %, ^, s, c, t, l, r, a, d, f, p, n, m, i, x): s\n",
            "sin(5.0) = -0.9589242746631385\n"
          ]
        }
      ]
    }
  ]
}